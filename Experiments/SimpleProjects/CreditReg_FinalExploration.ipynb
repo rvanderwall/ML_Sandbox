{
 "cells": [
  {
   "cell_type": "markdown",
   "metadata": {},
   "source": [
    "# Credit cards\n",
    "simple credit card regression\n"
   ]
  },
  {
   "cell_type": "code",
   "execution_count": 1,
   "metadata": {},
   "outputs": [],
   "source": [
    "# Get data from here:\n",
    "# https://packt.link/wensZ"
   ]
  },
  {
   "cell_type": "code",
   "execution_count": 2,
   "metadata": {
    "pycharm": {
     "name": "#%%\n"
    }
   },
   "outputs": [],
   "source": [
    "import numpy as np\n",
    "import pandas as pd\n",
    "import matplotlib.pyplot as plt\n",
    "%matplotlib inline\n",
    "import matplotlib as mpl\n",
    "mpl.rcParams['figure.dpi'] = 400. # High res"
   ]
  },
  {
   "cell_type": "code",
   "execution_count": 3,
   "metadata": {},
   "outputs": [
    {
     "name": "stdout",
     "output_type": "stream",
     "text": [
      "<class 'pandas.core.frame.DataFrame'>\n",
      "RangeIndex: 26664 entries, 0 to 26663\n",
      "Data columns (total 31 columns):\n",
      " #   Column                      Non-Null Count  Dtype \n",
      "---  ------                      --------------  ----- \n",
      " 0   Unnamed: 0                  26664 non-null  int64 \n",
      " 1   ID                          26664 non-null  object\n",
      " 2   LIMIT_BAL                   26664 non-null  int64 \n",
      " 3   SEX                         26664 non-null  int64 \n",
      " 4   EDUCATION                   26664 non-null  int64 \n",
      " 5   MARRIAGE                    26664 non-null  int64 \n",
      " 6   AGE                         26664 non-null  int64 \n",
      " 7   PAY_1                       26664 non-null  int64 \n",
      " 8   PAY_2                       26664 non-null  int64 \n",
      " 9   PAY_3                       26664 non-null  int64 \n",
      " 10  PAY_4                       26664 non-null  int64 \n",
      " 11  PAY_5                       26664 non-null  int64 \n",
      " 12  PAY_6                       26664 non-null  int64 \n",
      " 13  BILL_AMT1                   26664 non-null  int64 \n",
      " 14  BILL_AMT2                   26664 non-null  int64 \n",
      " 15  BILL_AMT3                   26664 non-null  int64 \n",
      " 16  BILL_AMT4                   26664 non-null  int64 \n",
      " 17  BILL_AMT5                   26664 non-null  int64 \n",
      " 18  BILL_AMT6                   26664 non-null  int64 \n",
      " 19  PAY_AMT1                    26664 non-null  int64 \n",
      " 20  PAY_AMT2                    26664 non-null  int64 \n",
      " 21  PAY_AMT3                    26664 non-null  int64 \n",
      " 22  PAY_AMT4                    26664 non-null  int64 \n",
      " 23  PAY_AMT5                    26664 non-null  int64 \n",
      " 24  PAY_AMT6                    26664 non-null  int64 \n",
      " 25  default payment next month  26664 non-null  int64 \n",
      " 26  EDUCATION_CATEGORY          26664 non-null  object\n",
      " 27  graduate school             26664 non-null  int64 \n",
      " 28  high school                 26664 non-null  int64 \n",
      " 29  others                      26664 non-null  int64 \n",
      " 30  university                  26664 non-null  int64 \n",
      "dtypes: int64(29), object(2)\n",
      "memory usage: 6.3+ MB\n"
     ]
    }
   ],
   "source": [
    "df = pd.read_csv('Data/cleaned_data.csv')\n",
    "df.info()"
   ]
  },
  {
   "cell_type": "code",
   "execution_count": 4,
   "metadata": {},
   "outputs": [
    {
     "data": {
      "text/plain": [
       "0.2217971797179718"
      ]
     },
     "execution_count": 4,
     "metadata": {},
     "output_type": "execute_result"
    }
   ],
   "source": [
    "df['default payment next month'].mean()"
   ]
  },
  {
   "cell_type": "code",
   "execution_count": 5,
   "metadata": {},
   "outputs": [
    {
     "data": {
      "text/plain": [
       "default payment next month\n",
       "0    20750\n",
       "1     5914\n",
       "Name: ID, dtype: int64"
      ]
     },
     "execution_count": 5,
     "metadata": {},
     "output_type": "execute_result"
    }
   ],
   "source": [
    "df.groupby('default payment next month')['ID'].count()"
   ]
  },
  {
   "cell_type": "code",
   "execution_count": 6,
   "metadata": {},
   "outputs": [],
   "source": [
    "from sklearn.linear_model import LogisticRegression\n",
    "my_lr = LogisticRegression()"
   ]
  },
  {
   "cell_type": "code",
   "execution_count": 8,
   "metadata": {},
   "outputs": [],
   "source": [
    "my_lr = LogisticRegression(penalty='l2', dual=False,\n",
    "                          tol=0.0001, C=1.0,\n",
    "                          fit_intercept=True,\n",
    "                          intercept_scaling=1,\n",
    "                          class_weight=None,\n",
    "                          random_state=None,\n",
    "                          solver='lbfgs',\n",
    "                          max_iter=100,\n",
    "                          multi_class='auto',\n",
    "                          verbose=1,\n",
    "                          warm_start=False,\n",
    "                          n_jobs=None,\n",
    "                          l1_ratio=None)"
   ]
  },
  {
   "cell_type": "code",
   "execution_count": 9,
   "metadata": {},
   "outputs": [
    {
     "data": {
      "text/plain": [
       "LogisticRegression(C=0.1, solver='liblinear', verbose=1)"
      ]
     },
     "execution_count": 9,
     "metadata": {},
     "output_type": "execute_result"
    }
   ],
   "source": [
    "my_lr.C = 0.1\n",
    "my_lr.solver = 'liblinear'\n",
    "my_lr"
   ]
  },
  {
   "cell_type": "code",
   "execution_count": 10,
   "metadata": {},
   "outputs": [
    {
     "data": {
      "text/plain": [
       "array([[2],\n",
       "       [2],\n",
       "       [2],\n",
       "       [2],\n",
       "       [2],\n",
       "       [1],\n",
       "       [1],\n",
       "       [2],\n",
       "       [3],\n",
       "       [3]])"
      ]
     },
     "execution_count": 10,
     "metadata": {},
     "output_type": "execute_result"
    }
   ],
   "source": [
    "X = df['EDUCATION'][0:10].values.reshape(-1,1)\n",
    "X"
   ]
  },
  {
   "cell_type": "code",
   "execution_count": 11,
   "metadata": {},
   "outputs": [
    {
     "data": {
      "text/plain": [
       "array([1, 1, 0, 0, 0, 0, 0, 0, 0, 0])"
      ]
     },
     "execution_count": 11,
     "metadata": {},
     "output_type": "execute_result"
    }
   ],
   "source": [
    "y = df['default payment next month'][0:10].values\n",
    "y"
   ]
  },
  {
   "cell_type": "code",
   "execution_count": 12,
   "metadata": {},
   "outputs": [
    {
     "name": "stdout",
     "output_type": "stream",
     "text": [
      "[LibLinear]"
     ]
    },
    {
     "data": {
      "text/plain": [
       "LogisticRegression(C=0.1, solver='liblinear', verbose=1)"
      ]
     },
     "execution_count": 12,
     "metadata": {},
     "output_type": "execute_result"
    }
   ],
   "source": [
    "my_lr.fit(X, y)"
   ]
  },
  {
   "cell_type": "code",
   "execution_count": 13,
   "metadata": {},
   "outputs": [
    {
     "data": {
      "text/plain": [
       "array([0, 0, 0, 0, 0, 0, 0, 0, 0, 0])"
      ]
     },
     "execution_count": 13,
     "metadata": {},
     "output_type": "execute_result"
    }
   ],
   "source": [
    "new_X = df['EDUCATION'][10:20].values.reshape(-1, 1)\n",
    "my_lr.predict(new_X)"
   ]
  },
  {
   "cell_type": "code",
   "execution_count": 14,
   "metadata": {},
   "outputs": [
    {
     "data": {
      "text/plain": [
       "array([0, 0, 0, 1, 0, 0, 1, 0, 0, 0])"
      ]
     },
     "execution_count": 14,
     "metadata": {},
     "output_type": "execute_result"
    }
   ],
   "source": [
    "df['default payment next month'][10:20].values\n"
   ]
  },
  {
   "cell_type": "code",
   "execution_count": null,
   "metadata": {},
   "outputs": [],
   "source": []
  }
 ],
 "metadata": {
  "kernelspec": {
   "display_name": "Python 3",
   "language": "python",
   "name": "python3"
  },
  "language_info": {
   "codemirror_mode": {
    "name": "ipython",
    "version": 3
   },
   "file_extension": ".py",
   "mimetype": "text/x-python",
   "name": "python",
   "nbconvert_exporter": "python",
   "pygments_lexer": "ipython3",
   "version": "3.7.11"
  }
 },
 "nbformat": 4,
 "nbformat_minor": 1
}
