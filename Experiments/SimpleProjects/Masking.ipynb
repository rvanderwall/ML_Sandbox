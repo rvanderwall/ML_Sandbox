{
 "cells": [
  {
   "cell_type": "code",
   "execution_count": 12,
   "id": "7a9f6b6d",
   "metadata": {},
   "outputs": [],
   "source": [
    "import numpy as np\n",
    "from numpy.random import default_rng\n",
    "rg = default_rng(12345)"
   ]
  },
  {
   "cell_type": "code",
   "execution_count": 13,
   "id": "28325778",
   "metadata": {},
   "outputs": [
    {
     "data": {
      "text/plain": [
       "array([3, 1, 4, 2, 1])"
      ]
     },
     "execution_count": 13,
     "metadata": {},
     "output_type": "execute_result"
    }
   ],
   "source": [
    "random_integers = rg.integers(low=1, high=5, size=100)\n",
    "random_integers[:5]"
   ]
  },
  {
   "cell_type": "code",
   "execution_count": 14,
   "id": "ef2dee08",
   "metadata": {},
   "outputs": [],
   "source": [
    "# Create a mask\n",
    "is_equal_to_3 = random_integers == 3"
   ]
  },
  {
   "cell_type": "code",
   "execution_count": 15,
   "id": "ec861c40",
   "metadata": {},
   "outputs": [
    {
     "data": {
      "text/plain": [
       "array([ True, False, False, False, False])"
      ]
     },
     "execution_count": 15,
     "metadata": {},
     "output_type": "execute_result"
    }
   ],
   "source": [
    "is_equal_to_3[:5]"
   ]
  },
  {
   "cell_type": "code",
   "execution_count": 16,
   "id": "dc04a715",
   "metadata": {},
   "outputs": [],
   "source": [
    "is_1 = random_integers == 1\n",
    "is_2 = random_integers == 2\n",
    "is_3 = random_integers == 3\n",
    "is_4 = random_integers ==4"
   ]
  },
  {
   "cell_type": "code",
   "execution_count": 10,
   "id": "d9f31747",
   "metadata": {},
   "outputs": [
    {
     "name": "stdout",
     "output_type": "stream",
     "text": [
      "1:23, 2:27, 3:31, 4:19\n"
     ]
    }
   ],
   "source": [
    "print(f\"1:{sum(is_1)}, 2:{sum(is_2)}, 3:{sum(is_3)}, 4:{sum(is_4)}\")"
   ]
  },
  {
   "cell_type": "code",
   "execution_count": 11,
   "id": "307bb20a",
   "metadata": {},
   "outputs": [
    {
     "data": {
      "text/plain": [
       "array([3, 3, 3, 3, 3, 3, 3, 3, 3, 3, 3, 3, 3, 3, 3, 3, 3, 3, 3, 3, 3, 3,\n",
       "       3, 3, 3, 3, 3, 3, 3, 3, 3])"
      ]
     },
     "execution_count": 11,
     "metadata": {},
     "output_type": "execute_result"
    }
   ],
   "source": [
    "# use boolean array to mask values\n",
    "random_integers[is_3]"
   ]
  },
  {
   "cell_type": "code",
   "execution_count": null,
   "id": "dc3378ea",
   "metadata": {},
   "outputs": [],
   "source": []
  }
 ],
 "metadata": {
  "kernelspec": {
   "display_name": "Python 3",
   "language": "python",
   "name": "python3"
  },
  "language_info": {
   "codemirror_mode": {
    "name": "ipython",
    "version": 3
   },
   "file_extension": ".py",
   "mimetype": "text/x-python",
   "name": "python",
   "nbconvert_exporter": "python",
   "pygments_lexer": "ipython3",
   "version": "3.7.11"
  }
 },
 "nbformat": 4,
 "nbformat_minor": 5
}
